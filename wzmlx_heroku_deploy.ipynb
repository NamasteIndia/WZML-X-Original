{
  "nbformat": 4,
  "nbformat_minor": 0,
  "metadata": {
    "colab": {
      "provenance": [],
      "include_colab_link": true
    },
    "kernelspec": {
      "name": "python3",
      "display_name": "Python 3"
    },
    "language_info": {
      "name": "python"
    }
  },
  "cells": [
    {
      "cell_type": "markdown",
      "metadata": {
        "id": "view-in-github",
        "colab_type": "text"
      },
      "source": [
        "<a href=\"https://colab.research.google.com/github/NamasteIndia/WZML-X-Original/blob/master/wzmlx_heroku_deploy.ipynb\" target=\"_parent\"><img src=\"https://colab.research.google.com/assets/colab-badge.svg\" alt=\"Open In Colab\"/></a>"
      ]
    },
    {
      "cell_type": "code",
      "execution_count": null,
      "metadata": {
        "cellView": "form",
        "id": "3vxKZQk6wdhW"
      },
      "outputs": [],
      "source": [
        "#@title <center>𝙒𝙕𝙈𝙇-𝙓 𝙃𝙀𝙍𝙊𝙆𝙐</center><br>\n",
        "#@markdown <br><center><img src='https://te.legra.ph/file/8086f391e542ed5c6a4c2.jpg'  height=\"200\" width=\"400\" alt=\"WZML-X-logo\"/></center>\n",
        "\n",
        "#@markdown ---\n",
        "\n",
        "#@markdown 🔗 **Repo :** https://gitlab.com/mysterysd.sd/WZML-X <br>\n",
        "#@markdown 🤖 **Version :** _v1.3.3-hx_ <br>\n",
        "#@markdown ☢️ **Colab Version :** _v1.2_ <br>\n",
        "#@markdown 📄 **Channel :** https://telegram.me/WZML_X<br>\n",
        "#@markdown 🫂 **Community :** https://telegram.me/WZML_Support<br>\n",
        "\n",
        "#@markdown ---\n",
        "#@markdown <br><b>Deploy WZML-X in Heroku using Google Colab</b><br>"
      ]
    },
    {
      "cell_type": "code",
      "source": [
        "#@title <center><h3>***Heroku Login***</h3></center><br>\n",
        "\n",
        "#@markdown ---\n",
        "\n",
        "Heroku_Email = \"\" #@param {type:\"string\"}\n",
        "Heroku_API = \"\" #@param {type:\"string\"}\n",
        "\n",
        "#@markdown ---\n",
        "\n",
        "!curl -s https://cli-assets.heroku.com/install.sh | sh\n",
        "\n",
        "from IPython.display import HTML, clear_output\n",
        "clear_output()\n",
        "print(\"Heroku CLI Installed !\")\n",
        "\n",
        "if not all([Heroku_Email, Heroku_API]):\n",
        "    raise ValueError(\"Please fill in all Mandatory Variables.\")\n",
        "\n",
        "from os import path as ospath, chmod\n",
        "\n",
        "netrc_path = ospath.expanduser(\"~/.netrc\")\n",
        "\n",
        "netrc_creds = f'''machine api.heroku.com\n",
        "  login {Heroku_Email}\n",
        "  password {Heroku_API}\n",
        "machine git.heroku.com\n",
        "  login {Heroku_Email}\n",
        "  password {Heroku_API}'''\n",
        "with open(netrc_path, \"w\") as netrc_file:\n",
        "    netrc_file.write(netrc_creds)\n",
        "\n",
        "chmod(netrc_path, 0o600)\n",
        "\n",
        "!git config --global user.email {Heroku_Email}\n",
        "!git config --global user.name \"WZML-X\"\n",
        "\n",
        "print(\"Heroku Email & Password Loaded!\")"
      ],
      "metadata": {
        "id": "SoWUSMrl5FXz",
        "cellView": "form"
      },
      "execution_count": null,
      "outputs": []
    },
    {
      "cell_type": "code",
      "source": [
        "#@title <center><h3>***Create Heroku App***</h3></center><br>\n",
        "\n",
        "#@markdown ---\n",
        "App_Name = \"\" #@param {type:\"string\"}\n",
        "Server_Region = \"eu\" #@param [\"eu\", \"us\"] {allow-input: true}\n",
        "#@markdown ---\n",
        "\n",
        "!heroku create --region {Server_Region} --stack container {App_Name}"
      ],
      "metadata": {
        "cellView": "form",
        "id": "O0F5uHkJ2kzV"
      },
      "execution_count": null,
      "outputs": []
    },
    {
      "cell_type": "code",
      "source": [
        "#@title <center><h3>***WZML-X Repo Config Setup***</h3></center><br>\n",
        "\n",
        "#@markdown #### ***Fill all these Variables for the `config.env`*** **(All are Mandatory)**\n",
        "\n",
        "BOT_TOKEN = \"\"  # @param {type:\"string\"}\n",
        "TELEGRAM_API = None  # @param {type:\"integer\"}\n",
        "TELEGRAM_HASH = \"\"  # @param {type:\"string\"}\n",
        "OWNER_ID = None  # @param {type:\"integer\"}\n",
        "UPSTREAM_REPO = \"https://gitlab.com/mysterysd.sd/WZML-X\"  # @param {type:\"string\"}\n",
        "UPSTREAM_BRANCH = \"hk_wzmlx\"  # @param {type:\"string\"}\n",
        "DATABASE_URL = \"\"  # @param {type:\"string\"}\n",
        "BASE_URL = \"\"  # @param {type:\"string\"}\n",
        "TORRENT_TIMEOUT = 0\n",
        "\n",
        "#@markdown ---\n",
        "\n",
        "CONF_GIST_URL = \"\" # @param {type:\"string\"}\n",
        "#@markdown <h6><i>(If you want to Upload `config.env` via `gist.github.com`, Provide the gist URL, Always make Private gist)</i></h6>\n",
        "\n",
        "#@markdown ---\n",
        "\n",
        "Upload_Config = False # @param {type:\"boolean\"}\n",
        "#@markdown <h6><i>(If you want to Upload `config.env` file Externally, Tick the Above CheckBox)</i></h6>\n",
        "\n",
        "#@markdown ---\n",
        "\n",
        "Modify_Pkgs = \"yt-dlp==2023.10.07, pyrofork==2.2.11\" #@param [\"pyrogram==2.0.77\", \"pyrogram==2.0.106\", \"bs4, aiohttp, cfscr\"] {allow-input: true, type:\"string\"}\n",
        "Remove_Pkgs = \"pyrogram\" #@param [\"pyrogram\"] {allow-input: true, type:\"string\"}\n",
        "#@markdown <h6><i>(If you want to edit requirements.txt custom, separated via \", \" (comma) for multiple)</i></h6>\n",
        "\n",
        "#@markdown ---\n",
        "\n",
        "if not Upload_Config and not CONF_GIST_URL and not all([BOT_TOKEN, TELEGRAM_API, TELEGRAM_HASH, OWNER_ID, UPSTREAM_REPO, DATABASE_URL, BASE_URL]):\n",
        "    raise ValueError(\"Please fill in all Mandatory Variables.\")\n",
        "\n",
        "!git clone https://gitlab.com/mysterysd.sd/WZML-X\n",
        "%cd WZML-X\n",
        "\n",
        "if Upload_Config:\n",
        "    from google.colab import files\n",
        "    config_creds = list(files.upload().values())[0]\n",
        "    with open(\"config.env\", \"wb\") as config_file:\n",
        "        config_file.write(config_creds)\n",
        "    print(\"config.env File Uploaded and Saved Successfully\")\n",
        "elif CONF_GIST_URL:\n",
        "    !curl -o \"config.env\" $CONF_GIST_URL\n",
        "    print(\"config.env File Extracted and Saved Successfully\")\n",
        "elif all([BOT_TOKEN, TELEGRAM_API, TELEGRAM_HASH, OWNER_ID, UPSTREAM_REPO, DATABASE_URL, BASE_URL]):\n",
        "    config_creds = f'BOT_TOKEN = \"{BOT_TOKEN}\"\\n' \\\n",
        "                   f'TELEGRAM_API = \"{TELEGRAM_API}\"\\n' \\\n",
        "                   f'TELEGRAM_HASH = \"{TELEGRAM_HASH}\"\\n' \\\n",
        "                   f'OWNER_ID = \"{OWNER_ID}\"\\n' \\\n",
        "                   f'UPSTREAM_REPO = \"{UPSTREAM_REPO}\"\\n' \\\n",
        "                   f'UPSTREAM_BRANCH = \"{UPSTREAM_BRANCH}\"\\n' \\\n",
        "                   f'DATABASE_URL = \"{DATABASE_URL}\"\\n' \\\n",
        "                   f'BASE_URL = \"{BASE_URL}\"\\n' \\\n",
        "                   f'TORRENT_TIMEOUT = \"{TORRENT_TIMEOUT}\"\\n'\n",
        "\n",
        "    with open(\"config.env\", \"wb\") as config_file:\n",
        "        config_file.write(config_creds.encode())\n",
        "    print(\"config.env File made and Saved Successfully\")\n",
        "\n",
        "if Modify_Pkgs:\n",
        "    from re import split as rsplit, escape\n",
        "    edit_pkgs = [pkg.strip() for pkg in Modify_Pkgs.split(',')]\n",
        "    rm_pkgs = [pkg.strip() for pkg in Remove_Pkgs.split(',')]\n",
        "\n",
        "    with open(\"requirements.txt\", \"r\") as req_file:\n",
        "        contents = req_file.readlines()\n",
        "\n",
        "    for i, line in enumerate(contents):\n",
        "        for pkg in rm_pkgs:\n",
        "            if line.startswith(pkg.lower()):\n",
        "                del contents[i]\n",
        "                rm_pkgs.remove(pkg)\n",
        "\n",
        "    if len(rm_pkgs) != 0:\n",
        "        print(f\"Following Packages Not Found : {', '.join(rm_pkgs)}\")\n",
        "\n",
        "    for i, line in enumerate(contents):\n",
        "        for pkg in edit_pkgs:\n",
        "            if line.startswith(rsplit('|'.join(map(escape, ['==', '>=', '<=', '~='])), pkg)[0]):\n",
        "                contents[i] = f\"{pkg}\\n\"\n",
        "                edit_pkgs.remove(pkg)\n",
        "\n",
        "    if len(edit_pkgs) != 0:\n",
        "        contents.extend(edit_pkgs)\n",
        "\n",
        "    with open(\"requirements.txt\", \"w\") as req_file:\n",
        "        req_file.writelines(contents)\n",
        "    print(f\"requirements.txt file is Updated : {Modify_Pkgs}\")"
      ],
      "metadata": {
        "id": "NDpKCpuD2xjE",
        "cellView": "form"
      },
      "execution_count": null,
      "outputs": []
    },
    {
      "cell_type": "code",
      "source": [
        "# @title <center><h3>***Deploy Heroku App***</h3></center><br>\n",
        "\n",
        "#@markdown ---\n",
        "App_Name = \"\" #@param {type:\"string\"}\n",
        "#@markdown ---\n",
        "\n",
        "!git add . -f\n",
        "!git commit -m \"HK Setup\"\n",
        "!heroku git:remote -a {App_Name}\n",
        "!git push heroku main -f"
      ],
      "metadata": {
        "id": "NDbOYtC0ADR5",
        "cellView": "form"
      },
      "execution_count": null,
      "outputs": []
    },
    {
      "cell_type": "code",
      "source": [
        "# @title <center><h3>***Show Heroku App Logs***</h3></center><br>\n",
        "\n",
        "#@markdown ---\n",
        "App_Name = \"\" #@param {type:\"string\"}\n",
        "#@markdown ---\n",
        "\n",
        "!heroku logs -a {App_Name}"
      ],
      "metadata": {
        "cellView": "form",
        "id": "uLHCOrkZgYbG"
      },
      "execution_count": null,
      "outputs": []
    },
    {
      "cell_type": "code",
      "source": [
        "#@title <center><h3>***Heroku Logout***</h3></center><br>\n",
        "\n",
        "!heroku logout"
      ],
      "metadata": {
        "id": "jHhWiD3QAVTt",
        "cellView": "form"
      },
      "execution_count": null,
      "outputs": []
    }
  ]
}